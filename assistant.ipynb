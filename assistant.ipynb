{
 "cells": [
  {
   "cell_type": "code",
   "execution_count": 1,
   "metadata": {},
   "outputs": [],
   "source": [
    "import numpy as np\n",
    "import pandas as pd\n",
    "import nltk\n",
    "import re\n",
    "from sklearn.feature_extraction.text import CountVectorizer\n",
    "import time\n",
    "import nltk\n",
    "from nltk.corpus import stopwords\n",
    "from nltk.stem import SnowballStemmer\n",
    "from nltk.tokenize import TweetTokenizer\n",
    "from nltk.corpus import stopwords\n",
    "import string\n",
    "from nltk.tokenize import word_tokenize"
   ]
  },
  {
   "cell_type": "code",
   "execution_count": 2,
   "metadata": {},
   "outputs": [
    {
     "name": "stdout",
     "output_type": "stream",
     "text": [
      "[nltk_data] Downloading package stopwords to C:\\Users\\PRIYANSHU\n",
      "[nltk_data]     PANDEY\\AppData\\Roaming\\nltk_data...\n",
      "[nltk_data]   Package stopwords is already up-to-date!\n"
     ]
    }
   ],
   "source": [
    "##adding list of stopwords and punctuations.\n",
    "from nltk.corpus import stopwords\n",
    "import string\n",
    "\n",
    "nltk.download('stopwords')\n",
    "stops=set(stopwords.words('english'))\n",
    "punct=list(string.punctuation)\n",
    "stops.update(punct)"
   ]
  },
  {
   "cell_type": "code",
   "execution_count": 3,
   "metadata": {},
   "outputs": [],
   "source": [
    "stops = set(stopwords.words('english'))\n",
    "punctuations = list(string.punctuation)\n",
    "stops.update(punctuations)\n",
    "\n",
    "def  Remove_stop_words(x):\n",
    "    l=len(x)\n",
    "    #print(l)\n",
    "    y=[]\n",
    "   \n",
    "    for i in range(l):\n",
    "        if x[i] not in stops :\n",
    "            y.append(x[i])\n",
    "    #print(len(y))\n",
    "    return y\n",
    "\n",
    "def lower_casing(words): \n",
    "    text=[]\n",
    "    for i in words :\n",
    "        text.append(i.lower())\n",
    "    return text\n",
    "\n",
    "\n",
    "def adding(b):\n",
    "    \n",
    "    txt=''\n",
    "    for i in range(len(b)):\n",
    "        txt+=' '+b[i]\n",
    "    textdocument.append(txt)\n",
    "        \n"
   ]
  },
  {
   "cell_type": "code",
   "execution_count": 4,
   "metadata": {},
   "outputs": [],
   "source": [
    "df=pd.read_csv(r'finaldataset.csv')"
   ]
  },
  {
   "cell_type": "code",
   "execution_count": 8,
   "metadata": {},
   "outputs": [
    {
     "data": {
      "text/html": [
       "<div>\n",
       "<style scoped>\n",
       "    .dataframe tbody tr th:only-of-type {\n",
       "        vertical-align: middle;\n",
       "    }\n",
       "\n",
       "    .dataframe tbody tr th {\n",
       "        vertical-align: top;\n",
       "    }\n",
       "\n",
       "    .dataframe thead th {\n",
       "        text-align: right;\n",
       "    }\n",
       "</style>\n",
       "<table border=\"1\" class=\"dataframe\">\n",
       "  <thead>\n",
       "    <tr style=\"text-align: right;\">\n",
       "      <th></th>\n",
       "      <th>Season</th>\n",
       "      <th>Sector</th>\n",
       "      <th>Category</th>\n",
       "      <th>Crop</th>\n",
       "      <th>QueryType</th>\n",
       "      <th>QueryText</th>\n",
       "      <th>KCCAns</th>\n",
       "      <th>StateName</th>\n",
       "      <th>DistrictName</th>\n",
       "      <th>BlockName</th>\n",
       "      <th>CreatedOn</th>\n",
       "    </tr>\n",
       "  </thead>\n",
       "  <tbody>\n",
       "    <tr>\n",
       "      <th>0</th>\n",
       "      <td>JAYAD</td>\n",
       "      <td>AGRICULTURE</td>\n",
       "      <td>Others</td>\n",
       "      <td>Others</td>\n",
       "      <td>Weather</td>\n",
       "      <td>Asking about weather forecast?</td>\n",
       "      <td>This week weather is mostly cloudy and no Poss...</td>\n",
       "      <td>MAHARASHTRA</td>\n",
       "      <td>WASHIM</td>\n",
       "      <td>RISOD                                         ...</td>\n",
       "      <td>17:46.4</td>\n",
       "    </tr>\n",
       "    <tr>\n",
       "      <th>1</th>\n",
       "      <td>JAYAD</td>\n",
       "      <td>AGRICULTURE</td>\n",
       "      <td>Others</td>\n",
       "      <td>Others</td>\n",
       "      <td>Weather</td>\n",
       "      <td>Asking about weather forecast?</td>\n",
       "      <td>This week weather is mostly cloudy and no Poss...</td>\n",
       "      <td>MAHARASHTRA</td>\n",
       "      <td>WASHIM</td>\n",
       "      <td>RISOD                                         ...</td>\n",
       "      <td>17:46.4</td>\n",
       "    </tr>\n",
       "    <tr>\n",
       "      <th>2</th>\n",
       "      <td>KHARIF</td>\n",
       "      <td>AGRICULTURE</td>\n",
       "      <td>Others</td>\n",
       "      <td>Others</td>\n",
       "      <td>Weather</td>\n",
       "      <td>Asking about weather forecast?</td>\n",
       "      <td>Cloudy Weather Rainfall Chances Today.</td>\n",
       "      <td>MAHARASHTRA</td>\n",
       "      <td>WASHIM</td>\n",
       "      <td>WASHIM                                        ...</td>\n",
       "      <td>56:37.5</td>\n",
       "    </tr>\n",
       "    <tr>\n",
       "      <th>3</th>\n",
       "      <td>KHARIF</td>\n",
       "      <td>AGRICULTURE</td>\n",
       "      <td>Others</td>\n",
       "      <td>Others</td>\n",
       "      <td>Weather</td>\n",
       "      <td>Asking about weather forecast?</td>\n",
       "      <td>Cloudy Weather Rainfall Chances Today.</td>\n",
       "      <td>MAHARASHTRA</td>\n",
       "      <td>WASHIM</td>\n",
       "      <td>WASHIM                                        ...</td>\n",
       "      <td>56:37.5</td>\n",
       "    </tr>\n",
       "    <tr>\n",
       "      <th>4</th>\n",
       "      <td>JAYAD</td>\n",
       "      <td>AGRICULTURE</td>\n",
       "      <td>Oilseeds</td>\n",
       "      <td>Soybean (bhat)</td>\n",
       "      <td>Market Information</td>\n",
       "      <td>FARMER ASKED ABOUT MARKET RATE OF SOYBEAN ?</td>\n",
       "      <td>MARKET RATE OF SOYBEAN -3200-3400  RS/QTL</td>\n",
       "      <td>MAHARASHTRA</td>\n",
       "      <td>WASHIM</td>\n",
       "      <td>RISOD                                         ...</td>\n",
       "      <td>57:28.0</td>\n",
       "    </tr>\n",
       "  </tbody>\n",
       "</table>\n",
       "</div>"
      ],
      "text/plain": [
       "   Season       Sector  Category            Crop           QueryType  \\\n",
       "0   JAYAD  AGRICULTURE    Others          Others             Weather   \n",
       "1   JAYAD  AGRICULTURE    Others          Others             Weather   \n",
       "2  KHARIF  AGRICULTURE    Others          Others             Weather   \n",
       "3  KHARIF  AGRICULTURE    Others          Others             Weather   \n",
       "4   JAYAD  AGRICULTURE  Oilseeds  Soybean (bhat)  Market Information   \n",
       "\n",
       "                                     QueryText  \\\n",
       "0               Asking about weather forecast?   \n",
       "1               Asking about weather forecast?   \n",
       "2               Asking about weather forecast?   \n",
       "3               Asking about weather forecast?   \n",
       "4  FARMER ASKED ABOUT MARKET RATE OF SOYBEAN ?   \n",
       "\n",
       "                                              KCCAns    StateName  \\\n",
       "0  This week weather is mostly cloudy and no Poss...  MAHARASHTRA   \n",
       "1  This week weather is mostly cloudy and no Poss...  MAHARASHTRA   \n",
       "2             Cloudy Weather Rainfall Chances Today.  MAHARASHTRA   \n",
       "3             Cloudy Weather Rainfall Chances Today.  MAHARASHTRA   \n",
       "4          MARKET RATE OF SOYBEAN -3200-3400  RS/QTL  MAHARASHTRA   \n",
       "\n",
       "  DistrictName                                          BlockName CreatedOn  \n",
       "0       WASHIM  RISOD                                         ...   17:46.4  \n",
       "1       WASHIM  RISOD                                         ...   17:46.4  \n",
       "2       WASHIM  WASHIM                                        ...   56:37.5  \n",
       "3       WASHIM  WASHIM                                        ...   56:37.5  \n",
       "4       WASHIM  RISOD                                         ...   57:28.0  "
      ]
     },
     "execution_count": 8,
     "metadata": {},
     "output_type": "execute_result"
    }
   ],
   "source": [
    "x=df.copy()\n",
    "x.head()"
   ]
  },
  {
   "cell_type": "code",
   "execution_count": 7,
   "metadata": {},
   "outputs": [
    {
     "data": {
      "text/html": [
       "<div>\n",
       "<style scoped>\n",
       "    .dataframe tbody tr th:only-of-type {\n",
       "        vertical-align: middle;\n",
       "    }\n",
       "\n",
       "    .dataframe tbody tr th {\n",
       "        vertical-align: top;\n",
       "    }\n",
       "\n",
       "    .dataframe thead th {\n",
       "        text-align: right;\n",
       "    }\n",
       "</style>\n",
       "<table border=\"1\" class=\"dataframe\">\n",
       "  <thead>\n",
       "    <tr style=\"text-align: right;\">\n",
       "      <th></th>\n",
       "      <th>Season</th>\n",
       "      <th>Sector</th>\n",
       "      <th>Crop</th>\n",
       "      <th>QueryType</th>\n",
       "      <th>QueryText</th>\n",
       "      <th>KCCAns</th>\n",
       "    </tr>\n",
       "  </thead>\n",
       "  <tbody>\n",
       "    <tr>\n",
       "      <th>0</th>\n",
       "      <td>JAYAD</td>\n",
       "      <td>AGRICULTURE</td>\n",
       "      <td>Others</td>\n",
       "      <td>Weather</td>\n",
       "      <td>Asking about weather forecast?</td>\n",
       "      <td>This week weather is mostly cloudy and no Poss...</td>\n",
       "    </tr>\n",
       "    <tr>\n",
       "      <th>1</th>\n",
       "      <td>JAYAD</td>\n",
       "      <td>AGRICULTURE</td>\n",
       "      <td>Others</td>\n",
       "      <td>Weather</td>\n",
       "      <td>Asking about weather forecast?</td>\n",
       "      <td>This week weather is mostly cloudy and no Poss...</td>\n",
       "    </tr>\n",
       "    <tr>\n",
       "      <th>2</th>\n",
       "      <td>KHARIF</td>\n",
       "      <td>AGRICULTURE</td>\n",
       "      <td>Others</td>\n",
       "      <td>Weather</td>\n",
       "      <td>Asking about weather forecast?</td>\n",
       "      <td>Cloudy Weather Rainfall Chances Today.</td>\n",
       "    </tr>\n",
       "    <tr>\n",
       "      <th>3</th>\n",
       "      <td>KHARIF</td>\n",
       "      <td>AGRICULTURE</td>\n",
       "      <td>Others</td>\n",
       "      <td>Weather</td>\n",
       "      <td>Asking about weather forecast?</td>\n",
       "      <td>Cloudy Weather Rainfall Chances Today.</td>\n",
       "    </tr>\n",
       "    <tr>\n",
       "      <th>4</th>\n",
       "      <td>JAYAD</td>\n",
       "      <td>AGRICULTURE</td>\n",
       "      <td>Soybean (bhat)</td>\n",
       "      <td>Market Information</td>\n",
       "      <td>FARMER ASKED ABOUT MARKET RATE OF SOYBEAN ?</td>\n",
       "      <td>MARKET RATE OF SOYBEAN -3200-3400  RS/QTL</td>\n",
       "    </tr>\n",
       "  </tbody>\n",
       "</table>\n",
       "</div>"
      ],
      "text/plain": [
       "   Season       Sector            Crop           QueryType  \\\n",
       "0   JAYAD  AGRICULTURE          Others             Weather   \n",
       "1   JAYAD  AGRICULTURE          Others             Weather   \n",
       "2  KHARIF  AGRICULTURE          Others             Weather   \n",
       "3  KHARIF  AGRICULTURE          Others             Weather   \n",
       "4   JAYAD  AGRICULTURE  Soybean (bhat)  Market Information   \n",
       "\n",
       "                                     QueryText  \\\n",
       "0               Asking about weather forecast?   \n",
       "1               Asking about weather forecast?   \n",
       "2               Asking about weather forecast?   \n",
       "3               Asking about weather forecast?   \n",
       "4  FARMER ASKED ABOUT MARKET RATE OF SOYBEAN ?   \n",
       "\n",
       "                                              KCCAns  \n",
       "0  This week weather is mostly cloudy and no Poss...  \n",
       "1  This week weather is mostly cloudy and no Poss...  \n",
       "2             Cloudy Weather Rainfall Chances Today.  \n",
       "3             Cloudy Weather Rainfall Chances Today.  \n",
       "4          MARKET RATE OF SOYBEAN -3200-3400  RS/QTL  "
      ]
     },
     "execution_count": 7,
     "metadata": {},
     "output_type": "execute_result"
    }
   ],
   "source": [
    "\n",
    "lt=['Category', 'StateName', 'DistrictName', 'BlockName', 'CreatedOn']\n",
    "for i in lt:\n",
    "    x.drop(i, axis=1,inplace = True)\n",
    "x.head(5)\n"
   ]
  },
  {
   "cell_type": "code",
   "execution_count": 9,
   "metadata": {},
   "outputs": [],
   "source": [
    "X = x.iloc[:,0:5]\n",
    "Y = pd.DataFrame(x.iloc[:,5])\n"
   ]
  },
  {
   "cell_type": "code",
   "execution_count": 10,
   "metadata": {},
   "outputs": [
    {
     "data": {
      "text/html": [
       "<div>\n",
       "<style scoped>\n",
       "    .dataframe tbody tr th:only-of-type {\n",
       "        vertical-align: middle;\n",
       "    }\n",
       "\n",
       "    .dataframe tbody tr th {\n",
       "        vertical-align: top;\n",
       "    }\n",
       "\n",
       "    .dataframe thead th {\n",
       "        text-align: right;\n",
       "    }\n",
       "</style>\n",
       "<table border=\"1\" class=\"dataframe\">\n",
       "  <thead>\n",
       "    <tr style=\"text-align: right;\">\n",
       "      <th></th>\n",
       "      <th>Season</th>\n",
       "      <th>Sector</th>\n",
       "      <th>Category</th>\n",
       "      <th>Crop</th>\n",
       "      <th>QueryType</th>\n",
       "    </tr>\n",
       "  </thead>\n",
       "  <tbody>\n",
       "    <tr>\n",
       "      <th>0</th>\n",
       "      <td>JAYAD</td>\n",
       "      <td>AGRICULTURE</td>\n",
       "      <td>Others</td>\n",
       "      <td>Others</td>\n",
       "      <td>Weather</td>\n",
       "    </tr>\n",
       "    <tr>\n",
       "      <th>1</th>\n",
       "      <td>JAYAD</td>\n",
       "      <td>AGRICULTURE</td>\n",
       "      <td>Others</td>\n",
       "      <td>Others</td>\n",
       "      <td>Weather</td>\n",
       "    </tr>\n",
       "    <tr>\n",
       "      <th>2</th>\n",
       "      <td>KHARIF</td>\n",
       "      <td>AGRICULTURE</td>\n",
       "      <td>Others</td>\n",
       "      <td>Others</td>\n",
       "      <td>Weather</td>\n",
       "    </tr>\n",
       "    <tr>\n",
       "      <th>3</th>\n",
       "      <td>KHARIF</td>\n",
       "      <td>AGRICULTURE</td>\n",
       "      <td>Others</td>\n",
       "      <td>Others</td>\n",
       "      <td>Weather</td>\n",
       "    </tr>\n",
       "    <tr>\n",
       "      <th>4</th>\n",
       "      <td>JAYAD</td>\n",
       "      <td>AGRICULTURE</td>\n",
       "      <td>Oilseeds</td>\n",
       "      <td>Soybean (bhat)</td>\n",
       "      <td>Market Information</td>\n",
       "    </tr>\n",
       "  </tbody>\n",
       "</table>\n",
       "</div>"
      ],
      "text/plain": [
       "   Season       Sector  Category            Crop           QueryType\n",
       "0   JAYAD  AGRICULTURE    Others          Others             Weather\n",
       "1   JAYAD  AGRICULTURE    Others          Others             Weather\n",
       "2  KHARIF  AGRICULTURE    Others          Others             Weather\n",
       "3  KHARIF  AGRICULTURE    Others          Others             Weather\n",
       "4   JAYAD  AGRICULTURE  Oilseeds  Soybean (bhat)  Market Information"
      ]
     },
     "execution_count": 10,
     "metadata": {},
     "output_type": "execute_result"
    }
   ],
   "source": [
    "X.head()"
   ]
  },
  {
   "cell_type": "code",
   "execution_count": 11,
   "metadata": {},
   "outputs": [],
   "source": [
    "new_data=pd.get_dummies(X,columns=['Season','Sector','Crop','QueryType'])\n"
   ]
  },
  {
   "cell_type": "code",
   "execution_count": 12,
   "metadata": {},
   "outputs": [],
   "source": [
    "X=new_data.iloc[:,1:]"
   ]
  },
  {
   "cell_type": "code",
   "execution_count": 13,
   "metadata": {},
   "outputs": [],
   "source": [
    "from sklearn import model_selection\n",
    "xtrain,xtest,ytrain,ytest=model_selection.train_test_split(X,Y,random_state=0)"
   ]
  },
  {
   "cell_type": "code",
   "execution_count": 14,
   "metadata": {},
   "outputs": [
    {
     "name": "stdout",
     "output_type": "stream",
     "text": [
      "3859\n",
      "1287\n",
      "3859\n",
      "1287\n"
     ]
    }
   ],
   "source": [
    "print(len(xtrain))\n",
    "print(len(xtest))\n",
    "print(len(ytrain))\n",
    "print(len(ytest))"
   ]
  },
  {
   "cell_type": "code",
   "execution_count": 15,
   "metadata": {},
   "outputs": [
    {
     "name": "stderr",
     "output_type": "stream",
     "text": [
      "G:\\ANACONDA3\\lib\\site-packages\\sklearn\\linear_model\\logistic.py:432: FutureWarning: Default solver will be changed to 'lbfgs' in 0.22. Specify a solver to silence this warning.\n",
      "  FutureWarning)\n",
      "G:\\ANACONDA3\\lib\\site-packages\\sklearn\\utils\\validation.py:752: DataConversionWarning: A column-vector y was passed when a 1d array was expected. Please change the shape of y to (n_samples, ), for example using ravel().\n",
      "  y = column_or_1d(y, warn=True)\n",
      "G:\\ANACONDA3\\lib\\site-packages\\sklearn\\linear_model\\logistic.py:459: FutureWarning: Default multi_class will be changed to 'auto' in 0.22. Specify the multi_class option to silence this warning.\n",
      "  \"this warning.\", FutureWarning)\n"
     ]
    },
    {
     "data": {
      "text/plain": [
       "LogisticRegression(C=0.06, class_weight=None, dual=False, fit_intercept=True,\n",
       "          intercept_scaling=1, max_iter=100, multi_class='warn',\n",
       "          n_jobs=None, penalty='l2', random_state=None, solver='warn',\n",
       "          tol=0.0001, verbose=0, warm_start=False)"
      ]
     },
     "execution_count": 15,
     "metadata": {},
     "output_type": "execute_result"
    }
   ],
   "source": [
    "from sklearn.linear_model import LogisticRegression\n",
    "\n",
    "clf=LogisticRegression(C=0.06)\n",
    "clf.fit(xtrain,ytrain)"
   ]
  },
  {
   "cell_type": "code",
   "execution_count": 16,
   "metadata": {},
   "outputs": [],
   "source": [
    "y1_pred=clf.predict(xtest) "
   ]
  },
  {
   "cell_type": "code",
   "execution_count": 17,
   "metadata": {},
   "outputs": [
    {
     "data": {
      "text/plain": [
       "0.4864024864024864"
      ]
     },
     "execution_count": 17,
     "metadata": {},
     "output_type": "execute_result"
    }
   ],
   "source": [
    "clf.score(xtest,ytest)"
   ]
  },
  {
   "cell_type": "code",
   "execution_count": null,
   "metadata": {},
   "outputs": [],
   "source": [
    "#speech recognition using tkinter gui\n",
    " \n",
    "from gtts import gTTS\n",
    "import speech_recognition as sr\n",
    "import os\n",
    "import re\n",
    "import time\n",
    "from weather import Weather, Unit\n",
    "\n",
    "def rep():\n",
    "    a=mycommand()\n",
    "    talkToMe(a) \n",
    "    while True:\n",
    "        if(a=='exit'):\n",
    "            break\n",
    "        else:\n",
    "            a=mycommand()\n",
    "            #talkToMe(a)\n",
    "\n",
    "def talkToMe(audio):\n",
    "    tts=gTTS(text=audio,lang='hi')\n",
    "    tts.save('hello.mp3')\n",
    "    os.system('hello.mp3')\n",
    "\n",
    "def mycommand():\n",
    "    r=sr.Recognizer()\n",
    "    with sr.Microphone() as source:\n",
    "        print(\"Now please enter your command\")\n",
    "        r.pause_threshold=1\n",
    "        r.adjust_for_ambient_noise(source,duration=1)\n",
    "        audio=r.listen(source)\n",
    "        try:\n",
    "            command=r.recognize_google(audio, language=\"en-IN\") #hi-IN\n",
    "            print(\"you said: \" +command+\"\\n\")\n",
    "            if 'current weather in' in command:\n",
    "                reg_ex = re.search('current weather in (.*)', command)\n",
    "                if reg_ex:\n",
    "                    city = reg_ex.group(1)\n",
    "                    weather = Weather(unit=Unit.CELSIUS)\n",
    "                    location = weather.lookup_by_location(city)\n",
    "                    condition = location.condition\n",
    "                    forecasts = location.forecast\n",
    "                    for forecast in forecasts[]:\n",
    "                        print(forecast.text)\n",
    "                        print(forecast.date)\n",
    "                        print(forecast.high)\n",
    "                        print(forecast.low)\n",
    "                        #x=\"On \" + forecast.date + \", the weather will be \" + forecast.text\n",
    "                        #y=\" with estimated maximum temperature as \" + forecast.high + \"degree celsius and with estimated minimum temperature as \" + forecast.low + \" degree celsius\"\n",
    "                        z='On %s the weather will be %s with estimated maximum temperature as %s degree' % (forecast.date, forecast.text, forecast.high)\n",
    "                        a='celsius and with estimated minimum temperature as %s degree celsius ' % (forecast.low)\n",
    "                        #talkToMe(x)\n",
    "                        talkToMe(z)\n",
    "                        time.sleep(6)\n",
    "\n",
    "                        talkToMe(a)\n",
    "                        time.sleep(6)\n",
    "                        \n",
    "                        \n",
    "                    \n",
    "                    \n",
    "        except sr.UnknownValueError:\n",
    "            #assistant(mycommand())\n",
    "            print(\"Your command couldn't be heard\")\n",
    "            command = myCommand();\n",
    "    return command\n"
   ]
  },
  {
   "cell_type": "code",
   "execution_count": null,
   "metadata": {},
   "outputs": [],
   "source": [
    "# Implementation of assistant \n",
    "rep()"
   ]
  }
 ],
 "metadata": {
  "kernelspec": {
   "display_name": "Python 3",
   "language": "python",
   "name": "python3"
  },
  "language_info": {
   "codemirror_mode": {
    "name": "ipython",
    "version": 3
   },
   "file_extension": ".py",
   "mimetype": "text/x-python",
   "name": "python",
   "nbconvert_exporter": "python",
   "pygments_lexer": "ipython3",
   "version": "3.5.6"
  }
 },
 "nbformat": 4,
 "nbformat_minor": 2
}
