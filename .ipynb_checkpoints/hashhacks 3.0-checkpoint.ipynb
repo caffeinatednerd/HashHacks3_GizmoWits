{
 "cells": [
  {
   "cell_type": "code",
   "execution_count": null,
   "metadata": {},
   "outputs": [],
   "source": [
    "import numpy as np\n",
    "import pandas as pd\n",
    "import nltk\n",
    "import re\n",
    "import pandas as pd \n",
    "import numpy as np\n",
    "from sklearn.feature_extraction.text import CountVectorizer\n",
    "import time\n",
    "import nltk\n",
    "from nltk.corpus import stopwords\n",
    "from nltk.stem import SnowballStemmer\n",
    "from nltk.tokenize import TweetTokenizer\n",
    "from nltk.corpus import stopwords\n",
    "import string\n",
    "from nltk.tokenize import word_tokenize"
   ]
  },
  {
   "cell_type": "code",
   "execution_count": null,
   "metadata": {},
   "outputs": [],
   "source": [
    "##adding list of stopwords and punctuations.\n",
    "from nltk.corpus import stopwords\n",
    "import string\n",
    "\n",
    "nltk.download('stopwords')\n",
    "stops=set(stopwords.words('english'))\n",
    "punct=list(string.punctuation)\n",
    "stops.update(punct)"
   ]
  },
  {
   "cell_type": "code",
   "execution_count": null,
   "metadata": {},
   "outputs": [],
   "source": [
    "stops = set(stopwords.words('english'))\n",
    "punctuations = list(string.punctuation)\n",
    "stops.update(punctuations)\n",
    "\n",
    "def  Remove_stop_words(x):\n",
    "    l=len(x)\n",
    "    #print(l)\n",
    "    y=[]\n",
    "   \n",
    "    for i in range(l):\n",
    "        if x[i] not in stops :\n",
    "            y.append(x[i])\n",
    "    #print(len(y))\n",
    "    return y\n",
    "\n",
    "def lower_casing(words): \n",
    "    text=[]\n",
    "    for i in words :\n",
    "        text.append(i.lower())\n",
    "    return text\n",
    "\n",
    "\n",
    "def adding(b):\n",
    "    \n",
    "    txt=''\n",
    "    for i in range(len(b)):\n",
    "        txt+=' '+b[i]\n",
    "    textdocument.append(txt)\n",
    "        \n"
   ]
  },
  {
   "cell_type": "code",
   "execution_count": null,
   "metadata": {},
   "outputs": [],
   "source": [
    "traindata=pd.read_csv(r'bihar.csv')"
   ]
  },
  {
   "cell_type": "code",
   "execution_count": null,
   "metadata": {},
   "outputs": [],
   "source": []
  },
  {
   "cell_type": "code",
   "execution_count": null,
   "metadata": {},
   "outputs": [],
   "source": []
  },
  {
   "cell_type": "code",
   "execution_count": null,
   "metadata": {},
   "outputs": [],
   "source": []
  },
  {
   "cell_type": "code",
   "execution_count": null,
   "metadata": {},
   "outputs": [],
   "source": []
  },
  {
   "cell_type": "code",
   "execution_count": null,
   "metadata": {},
   "outputs": [],
   "source": [
    "\n",
    "\n",
    "\n",
    "\n",
    "#speech recognition using tkinter gui\n",
    " \n",
    "from gtts import gTTS\n",
    "import speech_recognition as sr\n",
    "import os\n",
    "\n",
    "def rep():\n",
    "    a=mycommand()\n",
    "    talkToMe(a) \n",
    "    while True:\n",
    "        if(a=='exit'):\n",
    "            break\n",
    "        else:\n",
    "            a=mycommand()\n",
    "            talkToMe(a)\n",
    "\n",
    "def talkToMe(audio):\n",
    "    tts=gTTS(text=audio,lang='hi')\n",
    "    tts.save('hello.mp3')\n",
    "    os.system('hello.mp3')\n",
    "\n",
    "def mycommand():\n",
    "    r=sr.Recognizer()\n",
    "    with sr.Microphone() as source:\n",
    "        print(\"Now please enter your command\")\n",
    "        r.pause_threshold=1\n",
    "        r.adjust_for_ambient_noise(source,duration=1)\n",
    "        audio=r.listen(source)\n",
    "        try:\n",
    "            command=r.recognize_google(audio, language=\"hi-IN\")\n",
    "            print(\"you said: \" +command+\"\\n\")\n",
    "        except sr.UnknownValueError:\n",
    "            assistant(mycommand())\n",
    "    return command\n",
    "\n",
    "    \n",
    "#rep()\n",
    "\n"
   ]
  },
  {
   "cell_type": "code",
   "execution_count": null,
   "metadata": {},
   "outputs": [],
   "source": [
    "rep()"
   ]
  },
  {
   "cell_type": "code",
   "execution_count": null,
   "metadata": {},
   "outputs": [],
   "source": []
  }
 ],
 "metadata": {
  "kernelspec": {
   "display_name": "Python 3",
   "language": "python",
   "name": "python3"
  },
  "language_info": {
   "codemirror_mode": {
    "name": "ipython",
    "version": 3
   },
   "file_extension": ".py",
   "mimetype": "text/x-python",
   "name": "python",
   "nbconvert_exporter": "python",
   "pygments_lexer": "ipython3",
   "version": "3.5.6"
  }
 },
 "nbformat": 4,
 "nbformat_minor": 2
}
