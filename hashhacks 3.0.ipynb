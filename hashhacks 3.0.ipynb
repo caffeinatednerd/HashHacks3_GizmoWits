{
 "cells": [
  {
   "cell_type": "code",
   "execution_count": null,
   "metadata": {},
   "outputs": [],
   "source": [
    "import numpy as np\n",
    "import pandas as pd\n",
    "import nltk\n",
    "import re\n",
    "from sklearn.feature_extraction.text import CountVectorizer\n",
    "import time\n",
    "import nltk\n",
    "from nltk.corpus import stopwords\n",
    "from nltk.stem import SnowballStemmer\n",
    "from nltk.tokenize import TweetTokenizer\n",
    "from nltk.corpus import stopwords\n",
    "import string\n",
    "from nltk.tokenize import word_tokenize"
   ]
  },
  {
   "cell_type": "code",
   "execution_count": null,
   "metadata": {},
   "outputs": [],
   "source": [
    "##adding list of stopwords and punctuations.\n",
    "from nltk.corpus import stopwords\n",
    "import string\n",
    "\n",
    "nltk.download('stopwords')\n",
    "stops=set(stopwords.words('english'))\n",
    "punct=list(string.punctuation)\n",
    "stops.update(punct)"
   ]
  },
  {
   "cell_type": "code",
   "execution_count": null,
   "metadata": {},
   "outputs": [],
   "source": [
    "stops = set(stopwords.words('english'))\n",
    "punctuations = list(string.punctuation)\n",
    "stops.update(punctuations)\n",
    "\n",
    "def  Remove_stop_words(x):\n",
    "    l=len(x)\n",
    "    #print(l)\n",
    "    y=[]\n",
    "   \n",
    "    for i in range(l):\n",
    "        if x[i] not in stops :\n",
    "            y.append(x[i])\n",
    "    #print(len(y))\n",
    "    return y\n",
    "\n",
    "def lower_casing(words): \n",
    "    text=[]\n",
    "    for i in words :\n",
    "        text.append(i.lower())\n",
    "    return text\n",
    "\n",
    "\n",
    "def adding(b):\n",
    "    \n",
    "    txt=''\n",
    "    for i in range(len(b)):\n",
    "        txt+=' '+b[i]\n",
    "    textdocument.append(txt)\n",
    "        \n"
   ]
  },
  {
   "cell_type": "code",
   "execution_count": null,
   "metadata": {},
   "outputs": [],
   "source": [
    "df=pd.read_csv(r'finaldataset.csv')"
   ]
  },
  {
   "cell_type": "code",
   "execution_count": null,
   "metadata": {
    "scrolled": false
   },
   "outputs": [],
   "source": [
    "x=df.copy()\n",
    "x.head(10)"
   ]
  },
  {
   "cell_type": "code",
   "execution_count": null,
   "metadata": {},
   "outputs": [],
   "source": [
    "\n",
    "lt=['Category', 'StateName', 'DistrictName', 'BlockName', 'CreatedOn']\n",
    "for i in lt:\n",
    "    x.drop(i, axis=1,inplace = True)\n",
    "x.head(5)\n"
   ]
  },
  {
   "cell_type": "code",
   "execution_count": null,
   "metadata": {},
   "outputs": [],
   "source": [
    "len(x)"
   ]
  },
  {
   "cell_type": "code",
   "execution_count": null,
   "metadata": {
    "scrolled": true
   },
   "outputs": [],
   "source": [
    "X = x.iloc[:,0:5]\n",
    "Y = pd.DataFrame(x.iloc[:,5])\n"
   ]
  },
  {
   "cell_type": "code",
   "execution_count": null,
   "metadata": {},
   "outputs": [],
   "source": [
    "X.head()"
   ]
  },
  {
   "cell_type": "code",
   "execution_count": null,
   "metadata": {},
   "outputs": [],
   "source": [
    "new_data=pd.get_dummies(X,columns=['Season','Sector','Crop','QueryType'])\n"
   ]
  },
  {
   "cell_type": "code",
   "execution_count": null,
   "metadata": {
    "scrolled": true
   },
   "outputs": [],
   "source": [
    "set(Y['KCCAns'])"
   ]
  },
  {
   "cell_type": "code",
   "execution_count": null,
   "metadata": {},
   "outputs": [],
   "source": [
    "X=new_data.iloc[:,1:]"
   ]
  },
  {
   "cell_type": "code",
   "execution_count": null,
   "metadata": {},
   "outputs": [],
   "source": []
  },
  {
   "cell_type": "code",
   "execution_count": null,
   "metadata": {},
   "outputs": [],
   "source": [
    "from sklearn import model_selection\n",
    "xtrain,xtest,ytrain,ytest=model_selection.train_test_split(X,Y,random_state=0)"
   ]
  },
  {
   "cell_type": "code",
   "execution_count": null,
   "metadata": {},
   "outputs": [],
   "source": [
    "print(len(xtrain))\n",
    "print(len(xtest))\n",
    "print(len(ytrain))\n",
    "print(len(ytest))"
   ]
  },
  {
   "cell_type": "code",
   "execution_count": null,
   "metadata": {
    "scrolled": true
   },
   "outputs": [],
   "source": [
    "from sklearn.feature_extraction.text import TfidfVectorizer\n",
    "tf_idf=TfidfVectorizer(max_features=5,ngram_range=(1,2),stop_words=stops,analyzer='word', max_df = 0.8, lowercase = True, use_idf = True, smooth_idf = True)"
   ]
  },
  {
   "cell_type": "code",
   "execution_count": null,
   "metadata": {},
   "outputs": [],
   "source": [
    "train_features=tf_idf.fit_transform(xtrain,ytrain)\n",
    "test_features=tf_idf.transform(xtest)"
   ]
  },
  {
   "cell_type": "code",
   "execution_count": null,
   "metadata": {},
   "outputs": [],
   "source": [
    "print(train_features)\n",
    "print()\n",
    "print(test_features)"
   ]
  },
  {
   "cell_type": "code",
   "execution_count": null,
   "metadata": {},
   "outputs": [],
   "source": [
    "from sklearn.svm import SVC\n",
    "from sklearn.ensemble import RandomForestClassifier\n",
    "from sklearn.naive_bayes import MultinomialNB"
   ]
  },
  {
   "cell_type": "code",
   "execution_count": null,
   "metadata": {},
   "outputs": [],
   "source": [
    "from sklearn.linear_model import LogisticRegression\n",
    "\n",
    "clf=LogisticRegression(C=0.06)\n",
    "clf.fit(xtrain,ytrain)"
   ]
  },
  {
   "cell_type": "code",
   "execution_count": null,
   "metadata": {},
   "outputs": [],
   "source": [
    "y1_pred=clf.predict(xtest) "
   ]
  },
  {
   "cell_type": "code",
   "execution_count": null,
   "metadata": {},
   "outputs": [],
   "source": [
    "set(y1_pred)"
   ]
  },
  {
   "cell_type": "code",
   "execution_count": null,
   "metadata": {},
   "outputs": [],
   "source": [
    "##doing for svm classifier\n",
    "#svc=SVC()\n",
    "#svc.fit(train_features,ytrain)\n",
    "#Ac_svc = svc.score(test_features,ytest)"
   ]
  },
  {
   "cell_type": "code",
   "execution_count": null,
   "metadata": {},
   "outputs": [],
   "source": [
    "#doing for random-forest-classifier\n",
    "#rfc=RandomForestClassifier()\n",
    "#rfc.fit(train_features,ytrain)\n",
    "#Ac_rfc = rfc.score(test_features,ytest)"
   ]
  },
  {
   "cell_type": "code",
   "execution_count": null,
   "metadata": {},
   "outputs": [],
   "source": [
    "#doing for MultinomialNaiveBayes\n",
    "#nb=MultinomialNB()\n",
    "#nb.fit(train_features,ytrain)\n",
    "#Ac_nb = nb.score(test_features,ytest)"
   ]
  },
  {
   "cell_type": "code",
   "execution_count": null,
   "metadata": {},
   "outputs": [],
   "source": [
    "#from sklearn.linear_model import LogisticRegression\n",
    "#clf=LogisticRegression(C=1)\n",
    "#clf.fit(train_features,ytrain)\n",
    "#Ac_LG = clf.score(test_features,ytest)"
   ]
  },
  {
   "cell_type": "code",
   "execution_count": null,
   "metadata": {},
   "outputs": [],
   "source": [
    "#from sklearn.model_selection import GridSearchCV\n",
    "#clf = LogisticRegression()\n",
    "#grid = {'C': [0.001, 0.01, 0.1, 1, 10, 100, 1000] }\n",
    "#abc = GridSearchCV(clf, grid) \n",
    "#abc.fit(train_features, ytrain)"
   ]
  },
  {
   "cell_type": "code",
   "execution_count": null,
   "metadata": {},
   "outputs": [],
   "source": [
    "#abc.best_estimator_"
   ]
  },
  {
   "cell_type": "code",
   "execution_count": null,
   "metadata": {},
   "outputs": [],
   "source": [
    "#abc.best_score_"
   ]
  },
  {
   "cell_type": "code",
   "execution_count": null,
   "metadata": {},
   "outputs": [],
   "source": [
    "x_test_data.head()"
   ]
  },
  {
   "cell_type": "code",
   "execution_count": null,
   "metadata": {},
   "outputs": [],
   "source": []
  },
  {
   "cell_type": "code",
   "execution_count": null,
   "metadata": {},
   "outputs": [],
   "source": []
  },
  {
   "cell_type": "code",
   "execution_count": null,
   "metadata": {},
   "outputs": [],
   "source": []
  },
  {
   "cell_type": "code",
   "execution_count": 27,
   "metadata": {},
   "outputs": [],
   "source": [
    "#speech recognition using tkinter gui\n",
    " \n",
    "from gtts import gTTS\n",
    "import speech_recognition as sr\n",
    "import os\n",
    "import re\n",
    "import time\n",
    "from weather import Weather, Unit\n",
    "\n",
    "def rep():\n",
    "    a=mycommand()\n",
    "    talkToMe(a) \n",
    "    while True:\n",
    "        if(a=='exit'):\n",
    "            break\n",
    "        else:\n",
    "            a=mycommand()\n",
    "            #talkToMe(a)\n",
    "\n",
    "def talkToMe(audio):\n",
    "    tts=gTTS(text=audio,lang='hi')\n",
    "    tts.save('hello.mp3')\n",
    "    os.system('hello.mp3')\n",
    "\n",
    "def mycommand():\n",
    "    r=sr.Recognizer()\n",
    "    with sr.Microphone() as source:\n",
    "        print(\"Now please enter your command\")\n",
    "        r.pause_threshold=1\n",
    "        r.adjust_for_ambient_noise(source,duration=1)\n",
    "        audio=r.listen(source)\n",
    "        try:\n",
    "            command=r.recognize_google(audio, language=\"en-IN\") #hi-IN\n",
    "            print(\"you said: \" +command+\"\\n\")\n",
    "            if 'current weather in' in command:\n",
    "                reg_ex = re.search('current weather in (.*)', command)\n",
    "                if reg_ex:\n",
    "                    city = reg_ex.group(1)\n",
    "                    weather = Weather(unit=Unit.CELSIUS)\n",
    "                    location = weather.lookup_by_location(city)\n",
    "                    condition = location.condition\n",
    "                    forecasts = location.forecast\n",
    "                    for forecast in forecasts:\n",
    "                        print(forecast.text)\n",
    "                        print(forecast.date)\n",
    "                        print(forecast.high)\n",
    "                        print(forecast.low)\n",
    "                        #x=\"On \" + forecast.date + \", the weather will be \" + forecast.text\n",
    "                        #y=\" with estimated maximum temperature as \" + forecast.high + \"degree celsius and with estimated minimum temperature as \" + forecast.low + \" degree celsius\"\n",
    "                        z='On %s the weather will be %s with estimated maximum temperature as %s degree' % (forecast.date, forecast.text, forecast.high)\n",
    "                        a='celsius and with estimated minimum temperature as %s degree celsius ' % (forecast.low)\n",
    "                        #talkToMe(x)\n",
    "                        talkToMe(z)\n",
    "                        time.sleep(6)\n",
    "\n",
    "                        talkToMe(a)\n",
    "                        time.sleep(6)\n",
    "                        \n",
    "                        \n",
    "                    \n",
    "                    \n",
    "        except sr.UnknownValueError:\n",
    "            #assistant(mycommand())\n",
    "            print(\"Your command couldn't be heard\")\n",
    "            command = myCommand();\n",
    "    return command\n",
    "\n",
    "\n",
    "\n"
   ]
  },
  {
   "cell_type": "code",
   "execution_count": null,
   "metadata": {},
   "outputs": [],
   "source": [
    "# Implementation of assistant \n",
    "rep()"
   ]
  },
  {
   "cell_type": "code",
   "execution_count": null,
   "metadata": {
    "scrolled": true
   },
   "outputs": [],
   "source": [
    "from weather import Weather, Unit\n",
    "\n",
    "weather = Weather(unit=Unit.CELSIUS)\n",
    "\n",
    "location = weather.lookup_by_location('odisha')\n",
    "condition = location.condition\n",
    "forecasts = location.forecast\n",
    "print(len(forecasts))\n",
    "for forecast in forecasts:\n",
    "    print(forecast.text)\n",
    "    print(forecast.date)\n",
    "    print(forecast.high)\n",
    "    print(forecast.low)\n",
    "    print()"
   ]
  },
  {
   "cell_type": "code",
   "execution_count": null,
   "metadata": {},
   "outputs": [],
   "source": [
    "import wx\n",
    "import os\n",
    "class MyForm(wx.Frame):\n",
    "    def __init__(self):\n",
    "        wx.Frame.__init__(self, None, wx.ID_ANY, \"Launch Scripts\")\n",
    "        panel = wx.Panel(self, wx.ID_ANY)\n",
    "        sizer = wx.BoxSizer(wx.VERTICAL)\n",
    "        buttonA = wx.Button(panel, id=wx.ID_ANY, label=\"App A\", name=\"MYSCRIPT\")\n",
    "        #buttonB = wx.Button(panel, id=wx.ID_ANY, label=\"App B\", name=\"MYOtherSCRIPT\")\n",
    "        #buttonC = wx.Button(panel, id=wx.ID_ANY, label=\"App C\", name=\"SomeDifferentScript\")\n",
    "        buttons = [buttonA]\n",
    "\n",
    "        for button in buttons:\n",
    "            self.buildButtons(button, sizer)\n",
    "\n",
    "        panel.SetSizer(sizer)\n",
    "\n",
    "    def buildButtons(self, btn, sizer):\n",
    "        btn.Bind(wx.EVT_BUTTON, self.onButton)\n",
    "        sizer.Add(btn, 0, wx.ALL, 5)\n",
    "\n",
    "    def onButton(self, event):\n",
    "        \"\"\"\n",
    "        This method is fired when its corresponding button is pressed, taking the script from it's name\n",
    "        \"\"\"\n",
    "        button = event.GetEventObject()\n",
    "\n",
    "        os.system('python {}.py'.format(button.GetName()))\n",
    "\n",
    "        button_id = event.GetId()\n",
    "        button_by_id = self.FindWindowById(button_id)\n",
    "        print(\"The button you pressed was labeled: \" + button_by_id.GetLabel())\n",
    "        #print(\"The button's name is \" + button_by_id.GetName())\n",
    "        rep()\n",
    "\n",
    "# Run the program\n",
    "if __name__ == \"__main__\":\n",
    "    app = wx.App(False)\n",
    "    frame = MyForm()\n",
    "    frame.Show()\n",
    "    app.MainLoop()"
   ]
  },
  {
   "cell_type": "code",
   "execution_count": 31,
   "metadata": {},
   "outputs": [],
   "source": [
    "import goslate\n",
    "def trans(file):\n",
    "    gs = goslate.Goslate()\n",
    "    translatedText = gs.translate(file,'hi')\n",
    "    print(translatedText)\n",
    "    talkToMe(translatedText)"
   ]
  },
  {
   "cell_type": "code",
   "execution_count": null,
   "metadata": {},
   "outputs": [],
   "source": [
    "f='how are you'\n",
    "trans(f)"
   ]
  },
  {
   "cell_type": "code",
   "execution_count": 2,
   "metadata": {},
   "outputs": [
    {
     "name": "stdout",
     "output_type": "stream",
     "text": [
      "Collecting yandex-translater==1.0\n",
      "  Using cached https://files.pythonhosted.org/packages/31/96/e56c441059c6f1192d635d285478d6922157c83d1e3ae82ad729ad7d4829/yandex_translater-1.0-py2.py3-none-any.whl\n",
      "Installing collected packages: yandex-translater\n",
      "Successfully installed yandex-translater-1.0\n"
     ]
    },
    {
     "name": "stderr",
     "output_type": "stream",
     "text": [
      "You are using pip version 18.0, however version 18.1 is available.\n",
      "You should consider upgrading via the 'python -m pip install --upgrade pip' command.\n"
     ]
    }
   ],
   "source": [
    "!pip install yandex-translater==1.0"
   ]
  },
  {
   "cell_type": "code",
   "execution_count": 11,
   "metadata": {},
   "outputs": [
    {
     "ename": "AttributeError",
     "evalue": "'NoneType' object has no attribute 'split'",
     "output_type": "error",
     "traceback": [
      "\u001b[1;31m---------------------------------------------------------------------------\u001b[0m",
      "\u001b[1;31mAttributeError\u001b[0m                            Traceback (most recent call last)",
      "\u001b[1;32m<ipython-input-11-a28284ae191a>\u001b[0m in \u001b[0;36m<module>\u001b[1;34m()\u001b[0m\n\u001b[0;32m      1\u001b[0m \u001b[1;32mfrom\u001b[0m \u001b[0myandex\u001b[0m \u001b[1;32mimport\u001b[0m \u001b[0mTranslater\u001b[0m\u001b[1;33m\u001b[0m\u001b[0m\n\u001b[1;32m----> 2\u001b[1;33m \u001b[0mtr\u001b[0m \u001b[1;33m=\u001b[0m \u001b[0mTranslater\u001b[0m\u001b[1;33m(\u001b[0m\u001b[1;33m)\u001b[0m\u001b[1;33m\u001b[0m\u001b[0m\n\u001b[0m\u001b[0;32m      3\u001b[0m \u001b[0mtr\u001b[0m\u001b[1;33m.\u001b[0m\u001b[0mset_key\u001b[0m\u001b[1;33m(\u001b[0m\u001b[1;34m'trnsl.1.1.20181027T064233Z.3eb896622966c6cb.3685096a854ebdc502d7d01bdecdf7d490e88f9d'\u001b[0m\u001b[1;33m)\u001b[0m \u001b[1;31m# Api key found on https://translate.yandex.com/developers/keys\u001b[0m\u001b[1;33m\u001b[0m\u001b[0m\n\u001b[0;32m      4\u001b[0m \u001b[0mtr\u001b[0m\u001b[1;33m.\u001b[0m\u001b[0mset_text\u001b[0m\u001b[1;33m(\u001b[0m\u001b[1;34m'I am Prabhu. Thanks. How are you?'\u001b[0m\u001b[1;33m)\u001b[0m\u001b[1;33m\u001b[0m\u001b[0m\n\u001b[0;32m      5\u001b[0m \u001b[0mtr\u001b[0m\u001b[1;33m.\u001b[0m\u001b[0mset_from_lang\u001b[0m\u001b[1;33m(\u001b[0m\u001b[1;34m'en'\u001b[0m\u001b[1;33m)\u001b[0m\u001b[1;33m\u001b[0m\u001b[0m\n",
      "\u001b[1;32mG:\\ANACONDA3\\lib\\site-packages\\yandex\\Translater.py\u001b[0m in \u001b[0;36m__init__\u001b[1;34m(self, key, text, from_lang, to_lang, hint, ui)\u001b[0m\n\u001b[0;32m     21\u001b[0m         \u001b[0mself\u001b[0m\u001b[1;33m.\u001b[0m\u001b[0mvalid_default_ui\u001b[0m \u001b[1;33m=\u001b[0m \u001b[1;33m[\u001b[0m\u001b[1;34m'ru'\u001b[0m\u001b[1;33m,\u001b[0m\u001b[1;34m'en'\u001b[0m\u001b[1;33m,\u001b[0m\u001b[1;34m'tr'\u001b[0m\u001b[1;33m]\u001b[0m\u001b[1;33m\u001b[0m\u001b[0m\n\u001b[0;32m     22\u001b[0m \u001b[1;33m\u001b[0m\u001b[0m\n\u001b[1;32m---> 23\u001b[1;33m         \u001b[0mself\u001b[0m\u001b[1;33m.\u001b[0m\u001b[0mdefault_ui\u001b[0m \u001b[1;33m=\u001b[0m \u001b[0mlocale\u001b[0m\u001b[1;33m.\u001b[0m\u001b[0mgetlocale\u001b[0m\u001b[1;33m(\u001b[0m\u001b[1;33m)\u001b[0m\u001b[1;33m[\u001b[0m\u001b[1;36m0\u001b[0m\u001b[1;33m]\u001b[0m\u001b[1;33m.\u001b[0m\u001b[0msplit\u001b[0m\u001b[1;33m(\u001b[0m\u001b[1;34m'_'\u001b[0m\u001b[1;33m)\u001b[0m\u001b[1;33m[\u001b[0m\u001b[1;36m0\u001b[0m\u001b[1;33m]\u001b[0m\u001b[1;33m\u001b[0m\u001b[0m\n\u001b[0m\u001b[0;32m     24\u001b[0m \u001b[1;33m\u001b[0m\u001b[0m\n\u001b[0;32m     25\u001b[0m         \u001b[1;32mif\u001b[0m \u001b[1;32mnot\u001b[0m \u001b[0mself\u001b[0m\u001b[1;33m.\u001b[0m\u001b[0mdefault_ui\u001b[0m \u001b[1;32min\u001b[0m \u001b[0mself\u001b[0m\u001b[1;33m.\u001b[0m\u001b[0mvalid_lang\u001b[0m\u001b[1;33m:\u001b[0m\u001b[1;33m\u001b[0m\u001b[0m\n",
      "\u001b[1;31mAttributeError\u001b[0m: 'NoneType' object has no attribute 'split'"
     ]
    }
   ],
   "source": [
    "from yandex import Translater\n",
    "tr = Translater()\n",
    "tr.set_key('trnsl.1.1.20181027T064233Z.3eb896622966c6cb.3685096a854ebdc502d7d01bdecdf7d490e88f9d') # Api key found on https://translate.yandex.com/developers/keys\n",
    "tr.set_text('I am Prabhu. Thanks. How are you?')\n",
    "tr.set_from_lang('en')\n",
    "tr.set_to_lang('hi')\n",
    "tr.translate()"
   ]
  },
  {
   "cell_type": "code",
   "execution_count": null,
   "metadata": {},
   "outputs": [],
   "source": []
  },
  {
   "cell_type": "code",
   "execution_count": null,
   "metadata": {},
   "outputs": [],
   "source": []
  },
  {
   "cell_type": "code",
   "execution_count": null,
   "metadata": {},
   "outputs": [],
   "source": []
  },
  {
   "cell_type": "code",
   "execution_count": null,
   "metadata": {},
   "outputs": [],
   "source": []
  },
  {
   "cell_type": "code",
   "execution_count": null,
   "metadata": {},
   "outputs": [],
   "source": []
  },
  {
   "cell_type": "code",
   "execution_count": null,
   "metadata": {},
   "outputs": [],
   "source": [
    "import goslate\n",
    "\n",
    "text = \"how are you\"\n",
    "\n",
    "gs = goslate.Goslate()\n",
    "translatedText = gs.translate(text,'hi')\n",
    "\n",
    "print(translatedText)"
   ]
  },
  {
   "cell_type": "code",
   "execution_count": null,
   "metadata": {},
   "outputs": [],
   "source": []
  },
  {
   "cell_type": "code",
   "execution_count": null,
   "metadata": {},
   "outputs": [],
   "source": []
  }
 ],
 "metadata": {
  "kernelspec": {
   "display_name": "Python 3",
   "language": "python",
   "name": "python3"
  },
  "language_info": {
   "codemirror_mode": {
    "name": "ipython",
    "version": 3
   },
   "file_extension": ".py",
   "mimetype": "text/x-python",
   "name": "python",
   "nbconvert_exporter": "python",
   "pygments_lexer": "ipython3",
   "version": "3.5.6"
  }
 },
 "nbformat": 4,
 "nbformat_minor": 2
}
